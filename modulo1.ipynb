{
 "cells": [
  {
   "cell_type": "markdown",
   "metadata": {},
   "source": [
    "# Modulo 1: Primeros pasos"
   ]
  },
  {
   "cell_type": "markdown",
   "metadata": {},
   "source": [
    "- Utilizar funciones para administrar la entrada y la salida a la consola.\n",
    "- Crear variables para almacenar datos.\n",
    "- Distinguir entre tipos de datos.\n",
    "- Utilizar la conversión de tipos para convertir entre tipos de datos."
   ]
  },
  {
   "cell_type": "markdown",
   "metadata": {},
   "source": [
    "## Primer programa\n",
    "un programa es hacer algo, llevar a cabo una tarea. Para que el programa haga algo, debe agregar instrucciones de código que realicen instrucciones. Una instrucción podría imprimir algún texto o calcular algo, por ejemplo. Un programa de ejemplo puede tener un aspecto similar al siguiente:"
   ]
  },
  {
   "cell_type": "code",
   "execution_count": 11,
   "metadata": {},
   "outputs": [
    {
     "name": "stdout",
     "output_type": "stream",
     "text": [
      "3\n"
     ]
    }
   ],
   "source": [
    "sum = 1+2\n",
    "print(sum)"
   ]
  },
  {
   "cell_type": "markdown",
   "metadata": {},
   "source": [
    "[progrma1](/modulo1/progrm.py)"
   ]
  },
  {
   "cell_type": "markdown",
   "metadata": {},
   "source": [
    "## La funcion print\n",
    "\n",
    "Una de las primeras cosas que es probable que hagas es imprimir en una consola. Una consola es una aplicación de línea de comandos que te permite interactuar con el sistema operativo. En la consola, puedes ejecutar comandos y programas. También puedes ingresar información y mostrar información como texto en la pantalla.\n",
    "\n",
    "Para escribir información en la consola, puedes utilizar la función e implementarla como función principal. Debido a que es una función central, tendrás acceso a ella si Python está instalado."
   ]
  },
  {
   "cell_type": "code",
   "execution_count": 12,
   "metadata": {},
   "outputs": [
    {
     "name": "stdout",
     "output_type": "stream",
     "text": [
      "hola desde la consola\n",
      "hola mundo\n"
     ]
    }
   ],
   "source": [
    "print('hola desde la consola')\n",
    "print('hola mundo')"
   ]
  },
  {
   "cell_type": "markdown",
   "metadata": {},
   "source": [
    "[progrma2]( /modulo1/impresion.py)"
   ]
  },
  {
   "cell_type": "markdown",
   "metadata": {},
   "source": [
    "## Variables\n",
    "Para avanzar en la programación, debes comprender que estás operando con datos. Como tu programa está trabajando en datos, es posible que deba recordar un cierto valor a lo largo de la ejecución del programa. Para eso, se utilizan variables."
   ]
  },
  {
   "cell_type": "code",
   "execution_count": 13,
   "metadata": {},
   "outputs": [
    {
     "name": "stdout",
     "output_type": "stream",
     "text": [
      "6\n"
     ]
    }
   ],
   "source": [
    "sum = 1+2\n",
    "product= sum*2\n",
    "\n",
    "print(product)"
   ]
  },
  {
   "cell_type": "markdown",
   "metadata": {},
   "source": [
    "## Tipos de datos\n",
    "Una variable asume un tipo de datos. En el programa anterior, obtiene el tipo . Pero hay muchos más tipos de datos. Aquí hay algunos que es probable que encuentre: "
   ]
  },
  {
   "cell_type": "markdown",
   "metadata": {},
   "source": [
    "\n",
    "|Tipo         |\tDescripción                 |\tEjemplo                    |\n",
    "|-------------|-----------------------------|------------------------------|\n",
    "|Tipo numérico|\tNúmero, con o sin decimales |\tint, float, complex, no = 3|\n",
    "|-------------|-----------------------------|------------------------------|\n",
    "|Tipo de texto|\tCadena de caracteres        |\tstr = \"a literal string\"   |\n",
    "|-------------|-----------------------------|--------------------------    |\n",
    "|Tipo booleano|\tBooleano\t                |continue = True               |\n",
    "\n",
    "\n",
    "\n"
   ]
  },
  {
   "cell_type": "code",
   "execution_count": 14,
   "metadata": {},
   "outputs": [
    {
     "name": "stdout",
     "output_type": "stream",
     "text": [
      "<class 'int'>\n",
      "<class 'float'>\n",
      "<class 'str'>\n"
     ]
    }
   ],
   "source": [
    "planeta_en_el_siste_solar=8\n",
    "distancia_a_alfa_centauri=4.367\n",
    "tranformador_que_aterrizo_en_la_luna= 'apollo 11'\n",
    "print(type(planeta_en_el_siste_solar))\n",
    "print(type(distancia_a_alfa_centauri))\n",
    "print(type(tranformador_que_aterrizo_en_la_luna))"
   ]
  },
  {
   "cell_type": "markdown",
   "metadata": {},
   "source": [
    "[programatres](/modulo1/datos.py )"
   ]
  },
  {
   "cell_type": "markdown",
   "metadata": {},
   "source": [
    "## Operadores\n",
    "Los operadores le permiten realizar cálculos sobre variables y sus valores. La idea general es que tienes un lado izquierdo y un lado derecho y un operador en el medio:\n",
    "\n",
    "    <left side> <operator> <right side>\n",
    "Así es como se vería un ejemplo real del código de marcador de posición anterior:"
   ]
  },
  {
   "cell_type": "code",
   "execution_count": 15,
   "metadata": {},
   "outputs": [
    {
     "name": "stdout",
     "output_type": "stream",
     "text": [
      "2.0\n",
      "15\n",
      "50\n",
      "5\n"
     ]
    }
   ],
   "source": [
    "left_side= 10\n",
    "ringht_side=5\n",
    "print(left_side/ringht_side)\n",
    "print(left_side+ringht_side)\n",
    "print(left_side*ringht_side)\n",
    "print(left_side-ringht_side)"
   ]
  },
  {
   "cell_type": "markdown",
   "metadata": {},
   "source": [
    "[progrma4]( /modulo1/operadores.py)"
   ]
  },
  {
   "cell_type": "markdown",
   "metadata": {},
   "source": [
    "## Operadores aritméticos\n",
    "Con los operadores aritméticos, se realizan cálculos como suma, resta, división y multiplicación. Aquí hay un subconjunto de operadores aritméticos que puede usar:\n",
    "\n",
    "| Tipo  |                   Descripción\t                                                                |Ejemplo\n",
    "|-------|-----------------------------------------------------------------------------------------------|----------|\n",
    "|+\t    |Operador de adición que suma dos valores juntos                                                |\t1 + 1. |\n",
    "|-------|-----------------------------------------------------------------------------------------------|----------|\n",
    "|-\t    |Operador de resta que quita el valor del lado derecho del lado izquierdo                       |\t1 - 2. |\n",
    "|-------|-----------------------------------------------------------------------------------------------|----------|\n",
    "|/\t    |Operador de división que divide el lado izquierdo tantas veces como especifique el lado derecho|\t10 / 2.|\n",
    "|-------|-----------------------------------------------------------------------------------------------|----------|\n",
    "|*      |Operador de multiplicación                                                                     |\t2 * 2. |\n",
    "|-------|-----------------------------------------------------------------------------------------------|----------|"
   ]
  },
  {
   "cell_type": "markdown",
   "metadata": {},
   "source": [
    "## Operadores de asignación\n",
    "Los operadores de asignación se utilizan para asignar valores a una variable a lo largo del ciclo de vida de la variable. Estos son algunos operadores de asignación que es probable que encuentres a medida que aprendes a crear programas:\n",
    "|Operador\t|                                           Ejemplo                   |\n",
    "|-----------|---------------------------------------------------------------------|\n",
    "|=      \t|x = 2                                                                |\n",
    "|            x ahora contiene 2.                                                  |\n",
    "|+=\tx       | += 2                                                                |\n",
    "|            x incrementado en 2. Si antes contenía 2, ahora tiene un valor de 4. |\n",
    "|-= \t    |x -= 2                                                               |\n",
    "|            x decrementado por 2. Si antes contenía 2, ahora tiene un valor de 0.|\n",
    "|/=\t        |x /= 2                                                               |\n",
    "|            x dividido por 2. Si antes contenía 2, ahora tiene un valor de 1.    |\n",
    "|*= \t    |x *= 2                                                               |\n",
    "|            x multiplicado por 2. Si antes contenía 2, ahora tiene un valor de 4.|"
   ]
  },
  {
   "cell_type": "markdown",
   "metadata": {},
   "source": [
    "### Fechas\n",
    "Cuando estás creando programas, es probable que interactúes con las fechas. Una fecha en un programa generalmente significa tanto la fecha del calendario como la hora.\n",
    "\n",
    "Una fecha se puede utilizar en varias aplicaciones, como estos ejemplos:\n",
    "\n",
    "Archivo de copia de seguridad. Usar una fecha como parte del nombre de un archivo de copia de seguridad es una buena manera de indicar cuándo se realizó una copia de seguridad y cuándo debe realizarse nuevamente.\n",
    "Condición. Es posible que desee llevar una lógica específica cuando hay una fecha determinada.\n",
    "Métrica. Las fechas se utilizan para comprobar el rendimiento del código para, por ejemplo, medir el tiempo que se tarda en ejecutar una función."
   ]
  },
  {
   "cell_type": "code",
   "execution_count": 16,
   "metadata": {},
   "outputs": [
    {
     "name": "stdout",
     "output_type": "stream",
     "text": [
      "2022-02-16\n",
      "el dia es:2022-02-16\n"
     ]
    }
   ],
   "source": [
    "from datetime import date\n",
    "date.today()\n",
    "print(date.today())\n",
    "#print(\"el dia es:\"+date.today())\n",
    "print(\"el dia es:\"+str(date.today()))"
   ]
  },
  {
   "cell_type": "markdown",
   "metadata": {},
   "source": [
    "[progrma5]( /modulo1/dia.py)"
   ]
  },
  {
   "cell_type": "markdown",
   "metadata": {},
   "source": [
    "## Recopilar información\n",
    "Hasta ahora, has aprendido varias construcciones del lenguaje de programación Python. También has escrito un par de programas. Sin embargo, los programas operan con datos, y esos datos provienen de alguna parte. En esta unidad, analizará más de cerca cómo puede recopilar la entrada tanto de la línea de comandos como de la entrada del usuario.\n",
    "\n",
    "### Entrada del usuario\n",
    "Puede codificarlo para que el programa le diga al usuario que ingrese información. Guarde los datos introducidos en el programa y, a continuación, actúe en consecuencia.\n",
    "\n",
    "Para capturar información del usuario, utilice la función"
   ]
  },
  {
   "cell_type": "code",
   "execution_count": 18,
   "metadata": {},
   "outputs": [
    {
     "name": "stdout",
     "output_type": "stream",
     "text": [
      "Bienvenido al programa de bievenida\n",
      "mucho gusto,yazmin,22,estudiante\n"
     ]
    }
   ],
   "source": [
    "print(\"Bienvenido al programa de bievenida\")\n",
    "name=input('introduzca su nombre:')\n",
    "edad=int(input('introduzaca su edad:'))\n",
    "ocupacion=input('a que se dedica:')\n",
    "print(f\"mucho gusto,{name},{edad},{ocupacion}\")"
   ]
  },
  {
   "cell_type": "markdown",
   "metadata": {},
   "source": [
    "[progrmaseis](/modulo1/input.py)"
   ]
  },
  {
   "cell_type": "markdown",
   "metadata": {},
   "source": [
    "### Trabajar con números\n",
    "La función almacena un resultado como una cadena. Por lo tanto, es posible que el siguiente código no haga lo que desea que haga:"
   ]
  },
  {
   "cell_type": "code",
   "execution_count": 19,
   "metadata": {},
   "outputs": [
    {
     "name": "stdout",
     "output_type": "stream",
     "text": [
      "calucladora\n",
      "70\n",
      "-30\n",
      "1000\n",
      "0.4\n"
     ]
    }
   ],
   "source": [
    "print(\"calucladora\")\n",
    "primernumero= int(input(\"primer numero:\"))\n",
    "segundonumero=int(input(\"segundo numero:\"))\n",
    "print(primernumero+segundonumero)\n",
    "print(primernumero-segundonumero)\n",
    "print(primernumero*segundonumero)\n",
    "print(primernumero/segundonumero)\n"
   ]
  },
  {
   "cell_type": "markdown",
   "metadata": {},
   "source": [
    "[progrmasiete]( /modulo1/calc.py)"
   ]
  },
  {
   "cell_type": "markdown",
   "metadata": {},
   "source": [
    "# Katas modulo1\n",
    "## Tu primer programa\n",
    "Para crear este programa, deberás utilizar los conceptos que aprendiste en el último módulo. Usarás Jupyter Notebook en este ejercicio, que es una combinación de texto y código con la que puede interactuar. Finaliza el código siguiente para que el resultado muestre la fecha de hoy."
   ]
  },
  {
   "cell_type": "code",
   "execution_count": 20,
   "metadata": {},
   "outputs": [
    {
     "name": "stdout",
     "output_type": "stream",
     "text": [
      "today's date is:2022-02-16\n"
     ]
    }
   ],
   "source": [
    "from datetime import date\n",
    "date.today()\n",
    "print(\"today's date is:\"+str(date.today()))\n"
   ]
  },
  {
   "cell_type": "markdown",
   "metadata": {},
   "source": [
    "[ejerccio1]( /modulo1/ejerccio1.py)"
   ]
  },
  {
   "cell_type": "markdown",
   "metadata": {},
   "source": [
    "## Construir un convertidor de unidades\n",
    "El oficial superior> \"Necesito una cosa más: un programa de conversión entre parsecs y años luz. Tener un programa de este tipo podría ser realmente útil en el puente para trazar nuestro curso\"."
   ]
  },
  {
   "cell_type": "code",
   "execution_count": 21,
   "metadata": {},
   "outputs": [
    {
     "name": "stdout",
     "output_type": "stream",
     "text": [
      "11parsec,is35.877159999999996lightyears\n"
     ]
    }
   ],
   "source": [
    "parsec=int(input(\"ingrese el numero de parsec\"))\n",
    "lightyears=3.26156*parsec\n",
    "print(str(parsec)+\"parsec,is\"+str(lightyears)+\"lightyears\")"
   ]
  },
  {
   "cell_type": "markdown",
   "metadata": {},
   "source": [
    "[ejercicio2](/modulo1/ejerccio2.py)"
   ]
  }
 ],
 "metadata": {
  "interpreter": {
   "hash": "189578a762c093e6cb3165c5dfc06ce85b11ad3a315a611669c2a745ce0a9ce3"
  },
  "kernelspec": {
   "display_name": "Python 3.9.2 64-bit",
   "language": "python",
   "name": "python3"
  },
  "language_info": {
   "codemirror_mode": {
    "name": "ipython",
    "version": 3
   },
   "file_extension": ".py",
   "mimetype": "text/x-python",
   "name": "python",
   "nbconvert_exporter": "python",
   "pygments_lexer": "ipython3",
   "version": "3.9.2"
  },
  "orig_nbformat": 4
 },
 "nbformat": 4,
 "nbformat_minor": 2
}
