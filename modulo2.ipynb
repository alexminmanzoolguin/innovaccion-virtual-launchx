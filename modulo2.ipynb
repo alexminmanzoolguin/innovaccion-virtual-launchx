{
 "cells": [
  {
   "cell_type": "markdown",
   "metadata": {},
   "source": [
    "# Modulo 2 : crear y administrar un proyecto\n",
    "- Crear un proyecto de Python.\n",
    "- Desarrollar y ejecutar tu código de forma aislada en una máquina.\n",
    "- Usar bibliotecas que otra persona haya escrito.\n",
    "- Restaurar un proyecto a partir de una lista de dependencias."
   ]
  },
  {
   "cell_type": "markdown",
   "metadata": {},
   "source": [
    "![imagenuno](modulo2/imagen1.jpg)"
   ]
  },
  {
   "cell_type": "markdown",
   "metadata": {},
   "source": [
    "![imagendos](modulo2/imagen2.jpg)\n"
   ]
  },
  {
   "cell_type": "markdown",
   "metadata": {},
   "source": [
    "![imagentres](modulo2/imagen3.jpg)"
   ]
  },
  {
   "cell_type": "markdown",
   "metadata": {},
   "source": [
    "![imagecuatro](modulo2/imagen4.jpg)"
   ]
  },
  {
   "cell_type": "markdown",
   "metadata": {},
   "source": [
    "![imagecinco](modulo2/imagen6.jpg)"
   ]
  },
  {
   "cell_type": "markdown",
   "metadata": {},
   "source": [
    "![imagenseis](modulo2/imagen7.jpg)\n"
   ]
  },
  {
   "cell_type": "markdown",
   "metadata": {},
   "source": [
    "![imagensiete](modulo2/imagenultima.jpg)"
   ]
  },
  {
   "cell_type": "markdown",
   "metadata": {},
   "source": [
    "[practicamodulo2]( /modulo2/env)"
   ]
  }
 ],
 "metadata": {
  "interpreter": {
   "hash": "08733869cd44bee16056cc488af8b4ff92626efac16810e3224a029939c95c1b"
  },
  "kernelspec": {
   "display_name": "Python 3.8.5 ('base')",
   "language": "python",
   "name": "python3"
  },
  "language_info": {
   "name": "python",
   "version": "3.8.5"
  },
  "orig_nbformat": 4
 },
 "nbformat": 4,
 "nbformat_minor": 2
}
