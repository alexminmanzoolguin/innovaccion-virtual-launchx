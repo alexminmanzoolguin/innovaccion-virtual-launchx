{
 "cells": [
  {
   "cell_type": "markdown",
   "metadata": {},
   "source": [
    "# Modulo 2 : crear y administrar un proyecto\n",
    "- Crear un proyecto de Python.\n",
    "- Desarrollar y ejecutar tu código de forma aislada en una máquina.\n",
    "- Usar bibliotecas que otra persona haya escrito.\n",
    "- Restaurar un proyecto a partir de una lista de dependencias."
   ]
  },
  {
   "cell_type": "markdown",
   "metadata": {},
   "source": [
    "![Image text](https://github.com/alexminmanzoolguin/innovaccion-virtual-launchx/blob/main/modulo2/2022-02-16.png)\n",
    "\n",
    "\n",
    "![Image text](https://github.com/alexminmanzoolguin/innovaccion-virtual-launchx/blob/main/modulo2/2022-02-16%20(1).png)\n",
    "\n",
    "\n",
    "![Image text](https://github.com/alexminmanzoolguin/innovaccion-virtual-launchx/blob/main/modulo2/2022-02-16%20(2).png)\n",
    "\n",
    "\n",
    "![Image text](https://github.com/alexminmanzoolguin/innovaccion-virtual-launchx/blob/main/modulo2/2022-02-16%20(3).png)\n",
    "\n",
    "![Image text](https://github.com/alexminmanzoolguin/innovaccion-virtual-launchx/blob/main/modulo2/2022-02-16%20(4).png)\n",
    "\n",
    "\n",
    "![Image text](https://github.com/alexminmanzoolguin/innovaccion-virtual-launchx/blob/main/modulo2/2022-02-16%20(5).png)\n",
    "\n",
    "![Image text](https://github.com/alexminmanzoolguin/innovaccion-virtual-launchx/blob/main/modulo2/2022-02-16%20(7).png)\n"
   ]
  }
 ],
 "metadata": {
  "language_info": {
   "name": "python"
  },
  "orig_nbformat": 4
 },
 "nbformat": 4,
 "nbformat_minor": 2
}
