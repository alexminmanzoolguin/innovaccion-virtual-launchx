{
 "cells": [
  {
   "cell_type": "markdown",
   "metadata": {},
   "source": [
    "# Modulo 2 : crear y administrar un proyecto\n",
    "- Crear un proyecto de Python.\n",
    "- Desarrollar y ejecutar tu código de forma aislada en una máquina.\n",
    "- Usar bibliotecas que otra persona haya escrito.\n",
    "- Restaurar un proyecto a partir de una lista de dependencias."
   ]
  },
  {
   "cell_type": "markdown",
   "metadata": {},
   "source": [
    "![Image text]()\n",
    "\n"
   ]
  },
  {
   "cell_type": "markdown",
   "metadata": {},
   "source": [
    "![Image text](https://github.com/alexminmanzoolguin/innovaccion-virtual-launchx/blob/main/modulo2/2022-02-16%20(1).png)\n"
   ]
  },
  {
   "cell_type": "markdown",
   "metadata": {},
   "source": [
    "![Image text](https://github.com/alexminmanzoolguin/innovaccion-virtual-launchx/blob/main/modulo2/2022-02-16%20(2).png)"
   ]
  },
  {
   "cell_type": "markdown",
   "metadata": {},
   "source": [
    "![Image text](https://github.com/alexminmanzoolguin/innovaccion-virtual-launchx/blob/main/modulo2/2022-02-16%20(3).png)"
   ]
  },
  {
   "cell_type": "markdown",
   "metadata": {},
   "source": [
    "![Image text](https://github.com/alexminmanzoolguin/innovaccion-virtual-launchx/blob/main/modulo2/2022-02-16%20(4).png)"
   ]
  },
  {
   "cell_type": "markdown",
   "metadata": {},
   "source": [
    "![Image text](https://github.com/alexminmanzoolguin/innovaccion-virtual-launchx/blob/main/modulo2/2022-02-16%20(5).png)\n"
   ]
  },
  {
   "cell_type": "markdown",
   "metadata": {},
   "source": [
    "![Image text](https://github.com/alexminmanzoolguin/innovaccion-virtual-launchx/blob/main/modulo2/2022-02-16%20(7).png)"
   ]
  },
  {
   "cell_type": "markdown",
   "metadata": {},
   "source": [
    "[practicamodulo2]( /modulo2/env)"
   ]
  }
 ],
 "metadata": {
  "interpreter": {
   "hash": "08733869cd44bee16056cc488af8b4ff92626efac16810e3224a029939c95c1b"
  },
  "kernelspec": {
   "display_name": "Python 3.8.5 ('base')",
   "language": "python",
   "name": "python3"
  },
  "language_info": {
   "name": "python",
   "version": "3.8.5"
  },
  "orig_nbformat": 4
 },
 "nbformat": 4,
 "nbformat_minor": 2
}
