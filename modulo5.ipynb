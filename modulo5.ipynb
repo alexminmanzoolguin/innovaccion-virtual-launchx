{
 "cells": [
  {
   "cell_type": "markdown",
   "metadata": {},
   "source": [
    "# Modulo5: Operaciones matematicas\n",
    "- Los operadores matemáticos disponibles en Python.\n",
    "- El orden de las operaciones.\n",
    "- Cómo convertir cadenas en números."
   ]
  },
  {
   "cell_type": "markdown",
   "metadata": {},
   "source": [
    "## ¿Qué son los operadores en Python?\n",
    "Por lo general, las matemáticas implican alrededor de cuatro operaciones principales: suma, resta, multiplicación y división. Python es compatible con estos cuatro operadores y algunos otros. Exploremos los operadores más comunes que usarás en tus programas.\n",
    "\n",
    "### Adición (Suma)\n",
    "En python usamos + para indicar la adición. Usando + entre dos números los suma y proporciona el total."
   ]
  },
  {
   "cell_type": "code",
   "execution_count": 1,
   "metadata": {},
   "outputs": [
    {
     "name": "stdout",
     "output_type": "stream",
     "text": [
      "SUMA\n",
      "42\n"
     ]
    }
   ],
   "source": [
    "print(\"SUMA\")\n",
    "answer = 30 + 12\n",
    "print(answer)\n"
   ]
  },
  {
   "cell_type": "markdown",
   "metadata": {},
   "source": [
    "### Sustracción (Resta)\n",
    "Del mismo modo, Python utiliza - para la resta. El uso de - entre dos números resta los dos números y proporciona la diferencia."
   ]
  },
  {
   "cell_type": "code",
   "execution_count": 2,
   "metadata": {},
   "outputs": [
    {
     "name": "stdout",
     "output_type": "stream",
     "text": [
      "RESTA\n",
      "18\n"
     ]
    }
   ],
   "source": [
    "print(\"RESTA\")\n",
    "difference = 30 - 12\n",
    "print(difference)\n"
   ]
  },
  {
   "cell_type": "markdown",
   "metadata": {},
   "source": [
    "### Multiplicación\n",
    "En Python *, es el operador de multiplicación. Proporciona el producto de dos números:"
   ]
  },
  {
   "cell_type": "code",
   "execution_count": 3,
   "metadata": {},
   "outputs": [
    {
     "name": "stdout",
     "output_type": "stream",
     "text": [
      "MULTIPLICACION\n",
      "360\n"
     ]
    }
   ],
   "source": [
    "print(\"MULTIPLICACION\")\n",
    "product = 30 * 12\n",
    "print(product)\n"
   ]
  },
  {
   "cell_type": "markdown",
   "metadata": {},
   "source": [
    "### División\n",
    "Por último, se utiliza / para la división. Proporciona el cociente de dos números:"
   ]
  },
  {
   "cell_type": "code",
   "execution_count": 4,
   "metadata": {},
   "outputs": [
    {
     "name": "stdout",
     "output_type": "stream",
     "text": [
      "division\n",
      "2.5\n"
     ]
    }
   ],
   "source": [
    "print(\"division\")\n",
    "quotient = 30 / 12\n",
    "print(quotient)"
   ]
  },
  {
   "cell_type": "markdown",
   "metadata": {},
   "source": [
    "[ejercicio1]( /modulo5/operadores.py)"
   ]
  },
  {
   "cell_type": "markdown",
   "metadata": {},
   "source": [
    "### Trabajar con la división\n",
    "Imagina que necesitas convertir un número de segundos en minutos y segundos para la visualización."
   ]
  },
  {
   "cell_type": "markdown",
   "metadata": {},
   "source": [
    "[ejercicio2]( /modulo5/divicion.py)"
   ]
  },
  {
   "cell_type": "markdown",
   "metadata": {},
   "source": [
    "El primer paso es determinar el número de minutos que hay en 1042 segundos. Con 60 segundos en un minuto, puedes dividir y obtener una respuesta de 17.3666667 . El número que te interesa es simplemente 17. Siempre que desees redondear hacia abajo, utilizando lo que se conoce como división de piso. Para realizar la división de piso en Python, utilizamos //."
   ]
  },
  {
   "cell_type": "code",
   "execution_count": 5,
   "metadata": {},
   "outputs": [
    {
     "name": "stdout",
     "output_type": "stream",
     "text": [
      "17.366666666666667\n"
     ]
    }
   ],
   "source": [
    "seconds = 1042\n",
    "display_minutess = 1042 / 60\n",
    "print(display_minutess)\n"
   ]
  },
  {
   "cell_type": "markdown",
   "metadata": {},
   "source": [
    "El siguiente paso es determinar el número de segundos. Este es el resto de si se divide por 1042. Puedes encontrar el resto utilizando el operador módulo, que es % en Python. El resto de 1042 / 60 es 22, que es lo que proporcionará el operador del módulo."
   ]
  },
  {
   "cell_type": "code",
   "execution_count": 6,
   "metadata": {},
   "outputs": [
    {
     "name": "stdout",
     "output_type": "stream",
     "text": [
      "17\n",
      "22\n"
     ]
    }
   ],
   "source": [
    "display_minutes = 1042 // 60\n",
    "print(display_minutes)\n",
    "\n",
    "display_seconds = 1042 % 60\n",
    "print(display_seconds)"
   ]
  },
  {
   "cell_type": "markdown",
   "metadata": {},
   "source": [
    "### Orden de funcionamiento (Jerarquía de Operaciones)\n",
    "Python respeta el orden de operación para las matemáticas. El orden de operación dicta que las expresiones deben evaluarse en el siguiente orden:\n",
    "\n",
    "- 1.- Paréntesis\n",
    "- 2.- Exponentes\n",
    "- 3.- Multiplicación y división\n",
    "- 4.- Suma y resta"
   ]
  },
  {
   "cell_type": "code",
   "execution_count": 7,
   "metadata": {},
   "outputs": [
    {
     "name": "stdout",
     "output_type": "stream",
     "text": [
      "1084\n",
      "1084\n"
     ]
    }
   ],
   "source": [
    "result_1 = 1032 + 26 * 2\n",
    "result_2 = 1032 + (26 * 2)\n",
    "print(result_1)\n",
    "print(result_2)"
   ]
  },
  {
   "cell_type": "markdown",
   "metadata": {},
   "source": [
    "[ejercicio3]( /modulo5/jerarquia.py)"
   ]
  },
  {
   "cell_type": "markdown",
   "metadata": {},
   "source": [
    "## Trabajar con números en Python\n",
    "Más allá de la aritmética central, puedes hacer uso de otras operaciones con números. Es posible que debas realizar el redondeo o convertir cadenas en números.\n",
    "\n",
    "En el escenario de este módulo, deseas aceptar la entrada de un usuario. La entrada será una cadena en lugar de un número, por lo que deberás convertirla en un número. Además, el usuario puede introducir valores que le den una respuesta negativa, que no querrás mostrar. Es posible que debas convertir la respuesta a su valor absoluto (Recordemos que el valor absoluto hace refencia al valor sin signos, es decir sin negativo).\n",
    "\n",
    "Afortunadamente, Python proporciona utilidades para estas operaciones.\n",
    "\n",
    "### Convertir cadenas en números\n",
    "Python admite dos tipos principales de números: enteros (o int) y coma flotante (o float). La diferencia clave entre los dos es la existencia de un punto decimal; los enteros son números enteros, mientras que los floats contienen un valor decimal.\n",
    "\n",
    "Cuando conviertes cadenas en números, indicamos el tipo de número que deseamos crear. Debemos decidir si necesitamos un punto decimal. Se utiliza int para convertir a un número entero y float para convertir a un número de coma flotante."
   ]
  },
  {
   "cell_type": "code",
   "execution_count": 8,
   "metadata": {},
   "outputs": [
    {
     "name": "stdout",
     "output_type": "stream",
     "text": [
      "convertir cadenas en numeros\n",
      "215\n",
      "215.3\n"
     ]
    }
   ],
   "source": [
    "print(\"convertir cadenas en numeros\")\n",
    "demo_int = int('215')\n",
    "print(demo_int)\n",
    "demo_float = float('215.3')\n",
    "print(demo_float)"
   ]
  },
  {
   "cell_type": "markdown",
   "metadata": {},
   "source": [
    "### Valores absolutos\n",
    "Un valor absoluto en matemáticas es el número no negativo sin su signo. El uso de un valor absoluto puede ser útil en diferentes situaciones, incluido nuestro ejemplo de buscar determinar la distancia entre dos planetas."
   ]
  },
  {
   "cell_type": "code",
   "execution_count": 9,
   "metadata": {},
   "outputs": [
    {
     "name": "stdout",
     "output_type": "stream",
     "text": [
      "valores absolutos\n",
      "23\n",
      "23\n"
     ]
    }
   ],
   "source": [
    "print(\"valores absolutos\")\n",
    "a = 39 - 16\n",
    "b = 16 - 39\n",
    "\n",
    "print(abs(a))\n",
    "print(abs(b))"
   ]
  },
  {
   "cell_type": "markdown",
   "metadata": {},
   "source": [
    "### Redondeo\n",
    "La función de python incorporada llamada round también es útil. Usada para redondear al entero más cercano si el valor decimal .5 es mayor o mayor, o hacia abajo si es menor que .5."
   ]
  },
  {
   "cell_type": "code",
   "execution_count": 10,
   "metadata": {},
   "outputs": [
    {
     "name": "stdout",
     "output_type": "stream",
     "text": [
      "redondeo\n",
      "14\n"
     ]
    }
   ],
   "source": [
    "print(\"redondeo\")\n",
    "print(round(14.5))\n"
   ]
  },
  {
   "cell_type": "markdown",
   "metadata": {},
   "source": [
    "[ejercicio4]( /modulo5/nuemero.py)"
   ]
  },
  {
   "cell_type": "markdown",
   "metadata": {},
   "source": [
    "### Biblioteca Math\n",
    "Python tiene bibliotecas para proporcionar operaciones y cálculos más avanzados. Una de las más comunes es la biblioteca math. math te permite realizar el redondeo con floor y ceil, proporcionar el valor de pi, y muchas otras operaciones. Veamos cómo usar esta biblioteca para redondear hacia arriba o hacia abajo.\n",
    "\n",
    "El redondeo de números permite quitar la parte decimal de un flotador. Puedes elegir redondear siempre hacia arriba al número entero más cercano usando ceil, o hacia abajo usando floor."
   ]
  },
  {
   "cell_type": "code",
   "execution_count": 11,
   "metadata": {},
   "outputs": [
    {
     "name": "stdout",
     "output_type": "stream",
     "text": [
      "13\n",
      "12\n"
     ]
    }
   ],
   "source": [
    "from math import ceil, floor\n",
    "\n",
    "round_up = ceil(12.5)\n",
    "print(round_up)\n",
    "\n",
    "round_down = floor(12.5)\n",
    "print(round_down)"
   ]
  },
  {
   "cell_type": "markdown",
   "metadata": {},
   "source": [
    "[ejercicio5]( /modulo5/math.py)"
   ]
  }
 ],
 "metadata": {
  "interpreter": {
   "hash": "189578a762c093e6cb3165c5dfc06ce85b11ad3a315a611669c2a745ce0a9ce3"
  },
  "kernelspec": {
   "display_name": "Python 3.9.2 64-bit",
   "language": "python",
   "name": "python3"
  },
  "language_info": {
   "codemirror_mode": {
    "name": "ipython",
    "version": 3
   },
   "file_extension": ".py",
   "mimetype": "text/x-python",
   "name": "python",
   "nbconvert_exporter": "python",
   "pygments_lexer": "ipython3",
   "version": "3.8.5"
  },
  "orig_nbformat": 4
 },
 "nbformat": 4,
 "nbformat_minor": 2
}
