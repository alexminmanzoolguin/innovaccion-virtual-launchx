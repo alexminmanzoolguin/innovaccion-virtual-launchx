{
 "cells": [
  {
   "cell_type": "markdown",
   "metadata": {},
   "source": [
    "# Modulo 9:Funciones\n",
    "- Trabajar con entradas predeterminadas, obligatorias y de carácter comodín.\n",
    "- Hacer que el código sea reutilizable extrayendo patrones comunes en funciones independientes.\n",
    "- Devolver valores, estructuras de datos o resultados calculados."
   ]
  },
  {
   "cell_type": "markdown",
   "metadata": {},
   "source": [
    "## Aspectos básicos de las funciones de Python\n",
    "Los programas que evitan la duplicación y evitan funciones de gran tamaño mediante funciones más pequeñas son más legibles y fáciles de mantener. También son más fáciles de depurar cuando las cosas no funcionan correctamente.\n",
    "\n",
    "Hay varias reglas sobre las entradas de funciones que son fundamentales para aprovechar al máximo todo lo que las funciones tienen que ofrecer.\n",
    "\n",
    "Aunque se usa el término entrada para describir las funciones que se aceptan, estos elementos normalmente se denominan argumentos y/o parámetros. Para mantener la coherencia en este módulo, a las entradas las denominaremos argumentos."
   ]
  },
  {
   "cell_type": "markdown",
   "metadata": {},
   "source": [
    "### Funciones sin argumentos\n",
    "Para crear una función, utilizamos la palabra clave def, seguida de un nombre, paréntesis y, después, del cuerpo con el código de función:"
   ]
  },
  {
   "cell_type": "code",
   "execution_count": 1,
   "metadata": {},
   "outputs": [
    {
     "name": "stdout",
     "output_type": "stream",
     "text": [
      "payload, propellant, structure\n",
      "None\n"
     ]
    }
   ],
   "source": [
    "# Defino mi función\n",
    "def rocket_parts():\n",
    "    print('payload, propellant, structure')\n",
    "\n",
    "print(rocket_parts())"
   ]
  },
  {
   "cell_type": "markdown",
   "metadata": {},
   "source": [
    "### Argumentos opcionales y requeridos\n",
    "En Python, varias funciones integradas requieren argumentos. Algunas funciones integradas hacen que los argumentos sean opcionales. Las funciones integradas están disponibles de inmediato, por lo que no es necesario importarlas explícitamente.\n",
    "\n",
    "Un ejemplo de una función integrada que requiere un argumento es any(). Esta función toma un objeto iterable (por ejemplo, una lista) y devuelve True si algún elemento del objeto iterable es True. De lo contrario, devuelve False."
   ]
  },
  {
   "cell_type": "code",
   "execution_count": 5,
   "metadata": {},
   "outputs": [
    {
     "data": {
      "text/plain": [
       "True"
      ]
     },
     "execution_count": 5,
     "metadata": {},
     "output_type": "execute_result"
    }
   ],
   "source": [
    "any([True, False, False])\n"
   ]
  },
  {
   "cell_type": "code",
   "execution_count": 6,
   "metadata": {},
   "outputs": [
    {
     "data": {
      "text/plain": [
       "False"
      ]
     },
     "execution_count": 6,
     "metadata": {},
     "output_type": "execute_result"
    }
   ],
   "source": [
    "any([False, False, False])"
   ]
  },
  {
   "cell_type": "markdown",
   "metadata": {},
   "source": [
    "### Uso de argumentos en una función de Python\n",
    "Ahora que sabes cómo crear una función sin entradas, el paso siguiente es crear funciones que requieran un argumento. El uso de argumentos hace que las funciones sean más flexibles, ya que pueden hacer más y condicionalizar lo que hacen.\n",
    "\n",
    "#### Exigencia de un argumento\n",
    "Si vas a pilotar un cohete, una función sin entradas obligatorias es como un equipo con un botón que le indique la hora. Si presionas el botón, una voz computarizada le indicará la hora. Pero una entrada necesaria puede ser un destino para calcular la distancia del viaje. Las entradas obligatorias se denominan argumentos para la función.\n",
    "\n",
    "Para requerir un argumento, agrégalo entre paréntesis:"
   ]
  },
  {
   "cell_type": "code",
   "execution_count": 8,
   "metadata": {},
   "outputs": [
    {
     "name": "stdout",
     "output_type": "stream",
     "text": [
      "238,855\n"
     ]
    }
   ],
   "source": [
    "destination= input('ingrese el planeta')\n",
    "def distance_from_earth(destination):\n",
    "    if destination == 'Moon':\n",
    "        return '238,855'\n",
    "    else:\n",
    "        return 'Unable to compute to that destination'\n",
    "\n",
    "print(distance_from_earth(destination))"
   ]
  },
  {
   "cell_type": "markdown",
   "metadata": {},
   "source": [
    "[progrma1](/modulo9/funciones.py)"
   ]
  },
  {
   "cell_type": "markdown",
   "metadata": {},
   "source": [
    "#### Varios argumentos necesarios\n",
    "Para usar varios argumentos, debes separarlos con una coma. Vamos a crear una función que pueda calcular cuántos días se tardarán en llegar a un destino, dadas la distancia y una velocidad constante:"
   ]
  },
  {
   "cell_type": "code",
   "execution_count": 10,
   "metadata": {},
   "outputs": [
    {
     "name": "stdout",
     "output_type": "stream",
     "text": [
      "132.69722222222222\n",
      "133\n"
     ]
    }
   ],
   "source": [
    "distance=int(input('ingresa la distancia'))\n",
    "speed=int(input('ingresa la velocidad'))   \n",
    "def days_to_complete(distance, speed):\n",
    "    hours = distance/speed\n",
    "    return hours/24\n",
    "print(days_to_complete(distance, speed))\n",
    "print(round(days_to_complete(distance, speed)))"
   ]
  },
  {
   "cell_type": "markdown",
   "metadata": {},
   "source": [
    "[progrma2](/modulo9/ARGUMENTOS.PY)"
   ]
  },
  {
   "cell_type": "markdown",
   "metadata": {},
   "source": [
    "### Uso de argumentos de palabra clave en Python\n",
    "Los argumentos opcionales requieren un valor predeterminado asignado a ellos. Estos argumentos con nombre se denominan argumentos de palabra clave. Los valores del argumento de palabra clave deben definirse en las propias funciones. Cuando se llama a una función definida con argumentos de palabra clave, no es necesario usarlos en absoluto.\n",
    "\n",
    "La misión Apolo 11 tardó unas 51 horas en llegar a la Luna. Vamos a crear una función que devuelva la hora estimada de llegada usando el mismo valor que la misión Apolo 11 como valor predeterminado:"
   ]
  },
  {
   "cell_type": "code",
   "execution_count": 14,
   "metadata": {},
   "outputs": [
    {
     "name": "stdout",
     "output_type": "stream",
     "text": [
      "Arrival: Friday 19:33\n"
     ]
    }
   ],
   "source": [
    "from datetime import timedelta, datetime\n",
    "def arrival_time(hours=51):\n",
    "    now = datetime.now()\n",
    "    arrival = now + timedelta(hours=hours)\n",
    "    return arrival.strftime('Arrival: %A %H:%M')\n",
    "\n",
    "print(arrival_time())"
   ]
  },
  {
   "cell_type": "code",
   "execution_count": 15,
   "metadata": {},
   "outputs": [
    {
     "name": "stdout",
     "output_type": "stream",
     "text": [
      "Arrival: Wednesday 16:34\n"
     ]
    }
   ],
   "source": [
    "print(arrival_time(hours=0))"
   ]
  },
  {
   "cell_type": "markdown",
   "metadata": {},
   "source": [
    "#### Combinación de argumentos y argumentos de palabra clave\n",
    "A veces, una función necesita una combinación de argumentos de palabra clave y argumentos. En Python, esta combinación sigue un orden específico. Los argumentos siempre se declaran primero, seguidos de argumentos de palabra clave.\n",
    "\n",
    "Actualizando la función arrival_time() para que tome un argumento necesario, que es el nombre del destino:"
   ]
  },
  {
   "cell_type": "code",
   "execution_count": 16,
   "metadata": {},
   "outputs": [
    {
     "name": "stdout",
     "output_type": "stream",
     "text": [
      "Moon Arrival: Friday 19:35\n",
      "Moon Arrival: Wednesday 16:43\n"
     ]
    }
   ],
   "source": [
    "destination= input('ingrese el planeta')\n",
    "\n",
    "def arrival_time(destination, hours=51):\n",
    "    now = datetime.now()\n",
    "    arrival = now + timedelta(hours=hours)\n",
    "    return arrival.strftime(f'{destination} Arrival: %A %H:%M')\n",
    "\n",
    "print(arrival_time(destination))\n",
    "print(arrival_time(destination,hours=0.13))"
   ]
  },
  {
   "cell_type": "markdown",
   "metadata": {},
   "source": [
    "[progrma3](/modulo9/argumento.py)"
   ]
  },
  {
   "cell_type": "markdown",
   "metadata": {},
   "source": [
    "### Uso de argumentos de variable en Python\n",
    "En Python, puedes usar cualquier número de argumentos de palabra clave y argumentos sin necesidad de declarar cada uno de ellos. Esta capacidad es útil cuando una función puede obtener un número desconocido de entradas.\n",
    "\n",
    "#### Argumentos de variable\n",
    "Los argumentos en las funciones son necesarios. Pero cuando se usan argumentos de variable, la función permite pasar cualquier número de argumentos (incluido 0). La sintaxis para usar argumentos de variable es agregar un asterisco único como prefijo (*) antes del nombre del argumento."
   ]
  },
  {
   "cell_type": "code",
   "execution_count": 17,
   "metadata": {},
   "outputs": [
    {
     "name": "stdout",
     "output_type": "stream",
     "text": [
      "('one', 'two')\n",
      "None\n"
     ]
    }
   ],
   "source": [
    "def variable_length(*args):\n",
    "    print(args)\n",
    "\n",
    "print(variable_length('one','two'))\n",
    "\n"
   ]
  },
  {
   "cell_type": "markdown",
   "metadata": {},
   "source": [
    "Un cohete realiza varios pasos antes de un lanzamiento. En función de las tareas o retrasos, estos pasos pueden tardar más de lo previsto. Vamos a crear una función de longitud variable que pueda calcular cuántos minutos quedan hasta el inicio, dado el tiempo que va a tardar cada paso"
   ]
  },
  {
   "cell_type": "code",
   "execution_count": 18,
   "metadata": {},
   "outputs": [
    {
     "name": "stdout",
     "output_type": "stream",
     "text": [
      "Total time to launch is 36 minutes\n",
      "Total time to launch is 1.1 hours\n"
     ]
    }
   ],
   "source": [
    "def sequence_time(*args):\n",
    "    total_minutes = sum(args)\n",
    "    if total_minutes < 60:\n",
    "        return f'Total time to launch is {total_minutes} minutes'\n",
    "    else:\n",
    "        return f'Total time to launch is {total_minutes/60} hours'\n",
    "\n",
    "\n",
    "print(sequence_time(4,14,18))\n",
    "\n",
    "print(sequence_time(4,14,48))"
   ]
  },
  {
   "cell_type": "markdown",
   "metadata": {},
   "source": [
    "#### Argumentos de palabra clave variable\n",
    "Para que una función acepte cualquier número de argumentos de palabra clave, debe usar una sintaxis similar. En este caso, se requiere un asterisco doble:"
   ]
  },
  {
   "cell_type": "code",
   "execution_count": 19,
   "metadata": {},
   "outputs": [
    {
     "name": "stdout",
     "output_type": "stream",
     "text": [
      "{'tanks': 1, 'day': 'Wednesday', 'pilots': 3}\n",
      "None\n"
     ]
    }
   ],
   "source": [
    "def variable_length(**kwargs):\n",
    "    print(kwargs)\n",
    "\n",
    "print(variable_length(tanks=1, day='Wednesday', pilots=3))\n"
   ]
  },
  {
   "cell_type": "markdown",
   "metadata": {},
   "source": [
    "En esta función, vamos a usar argumentos de palabra clave variable para notificar los astronautas asignados a la misión. Dado que esta función permite cualquier número de argumentos de palabra clave, se puede reutilizar independientemente del número de astronautas asignados:"
   ]
  },
  {
   "cell_type": "code",
   "execution_count": 20,
   "metadata": {},
   "outputs": [
    {
     "name": "stdout",
     "output_type": "stream",
     "text": [
      "3 astronauts assigned for this mission:\n",
      "captain: Neil Armstrong\n",
      "pilot: Buzz Aldrin\n",
      "command_pilot: Michael Collins\n",
      "None\n"
     ]
    }
   ],
   "source": [
    "def crew_members(**kwargs):\n",
    "    print(f'{len(kwargs)} astronauts assigned for this mission:')\n",
    "    for title, name in kwargs.items():\n",
    "        print(f'{title}: {name}')\n",
    "\n",
    "print(crew_members(captain='Neil Armstrong', pilot='Buzz Aldrin', command_pilot='Michael Collins'))"
   ]
  },
  {
   "cell_type": "markdown",
   "metadata": {},
   "source": [
    "[progrma4](/modulo9/variables.py)"
   ]
  },
  {
   "cell_type": "markdown",
   "metadata": {},
   "source": [
    "# Katas 9: \n",
    "## Ejercicio: Uso de funciones en Python\n",
    "### Ejercicio 1: Trabajar con argumentos en funciones\n",
    "Los argumentos requeridos en las funciones se utilizan cuando las funciones necesitan que esos argumentos funcionen correctamente. En este ejercicio, construirás un informe de combustible que requiere información de varias ubicaciones de combustible en todo el cohete."
   ]
  },
  {
   "cell_type": "code",
   "execution_count": 21,
   "metadata": {},
   "outputs": [
    {
     "name": "stdout",
     "output_type": "stream",
     "text": [
      "tanque\n",
      "el reporte es :\n",
      "    total_tanque: 75.0%\n",
      "    tanque1:80%\n",
      "    tanque2: 70%\n",
      "    tanque3:75%\n",
      "promedio\n",
      "82.0\n",
      "reporte del tanque\n",
      "el reporte es :\n",
      "    total_average: 78.0%\n",
      "    tanque1:88%\n",
      "    tanque2: 76%\n",
      "    tanque3:70%\n"
     ]
    }
   ],
   "source": [
    "\n",
    "print(\"tanque\")\n",
    "\n",
    "def tanques(tanque1,tanque2,tanque3):\n",
    "    total_tanque=(tanque1+tanque2+tanque3)/3\n",
    "    return f\"\"\"el reporte es :\n",
    "    total_tanque: {total_tanque}%\n",
    "    tanque1:{tanque1}%\n",
    "    tanque2: {tanque2}%\n",
    "    tanque3:{tanque3}%\"\"\"\n",
    "\n",
    "print(tanques(80,70,75))\n",
    "\n",
    "print(\"promedio\")\n",
    "\n",
    "def promedio(values):\n",
    "     total=sum(values)\n",
    "     numero=len(values)\n",
    "     return total/ numero\n",
    "\n",
    "print(promedio([80,85,81]))\n",
    "\n",
    "\n",
    "print(\"reporte del tanque\")\n",
    "\n",
    "def repor_tanques(tanque1,tanque2,tanque3):\n",
    "    return f\"\"\"el reporte es :\n",
    "    total_average: {promedio([tanque1,tanque2,tanque3])}%\n",
    "    tanque1:{tanque1}%\n",
    "    tanque2: {tanque2}%\n",
    "    tanque3:{tanque3}%\"\"\"\n",
    "\n",
    "print(repor_tanques(88, 76, 70))\n"
   ]
  },
  {
   "cell_type": "markdown",
   "metadata": {},
   "source": [
    "[ejercicio1](/modulo9/ejerccio1.py)"
   ]
  },
  {
   "cell_type": "markdown",
   "metadata": {},
   "source": [
    "## Ejercicio 2: Trabajo con argumentos de palabra clave\n",
    "### Ejercicio : Trabajar con argumentos de palabras clave en funciones\n",
    "En este ejercicio, construirás un informe de cohete que requiere varias piezas de información, como el tiempo hasta el destino, el combustible a la izquierda y el nombre del destino. Comienza por crear una función que creará un informe preciso de la misión:"
   ]
  },
  {
   "cell_type": "code",
   "execution_count": 22,
   "metadata": {},
   "outputs": [
    {
     "name": "stdout",
     "output_type": "stream",
     "text": [
      "\n",
      "    Mision to Moon\n",
      "    total tiempo vuelo:65 minutos\n",
      "    total de gasolina:500000 gallons \n",
      "\n",
      "    Mision to Moon\n",
      "    total travel tiempo:76 minutos\n",
      "    total del viaje:500000\n",
      "\n",
      "    Mision to Moon\n",
      "    total travel tiempo:74 minutos\n",
      "    total del viaje:500000main tank--> 300000 gallons left\n",
      "external tank--> 200000 gallons left\n",
      "\n"
     ]
    }
   ],
   "source": [
    "def mision(prelanzaminto,tiempodevuelo,destino,tanqueexterno,tanqueinterno):\n",
    "    return f\"\"\"\n",
    "    Mision to {destino}\n",
    "    total tiempo vuelo:{prelanzaminto+tiempodevuelo} minutos\n",
    "    total de gasolina:{tanqueexterno+tanqueinterno} gallons \"\"\"\n",
    "\n",
    "print(mision(14,51,\"Moon\", 200000, 300000))\n",
    "\n",
    "\n",
    "def mision_report(destino,*minutos,**reservacion):\n",
    "    return f\"\"\"\n",
    "    Mision to {destino}\n",
    "    total travel tiempo:{sum(minutos)} minutos\n",
    "    total del viaje:{sum(reservacion.values())}\"\"\"\n",
    "\n",
    "print(mision_report(\"Moon\",10,15,51,main=300000,external=200000))\n",
    "\n",
    "\n",
    "def mision_reportes(destino,*minutos,**reservacion):\n",
    "    main_report= f\"\"\"\n",
    "    Mision to {destino}\n",
    "    total travel tiempo:{sum(minutos)} minutos\n",
    "    total del viaje:{sum(reservacion.values())}\"\"\"\n",
    "\n",
    "    for talk_name,gallons in reservacion.items():\n",
    "        main_report+= f\"{talk_name} tank--> {gallons} gallons left\\n\"\n",
    "\n",
    "    return main_report\n",
    "\n",
    "print(mision_reportes(\"Moon\",8,11,55,main=300000,external=200000))"
   ]
  },
  {
   "cell_type": "markdown",
   "metadata": {},
   "source": [
    "[ejercicio2](/modulo9/ejerccicio2.py)"
   ]
  }
 ],
 "metadata": {
  "interpreter": {
   "hash": "08733869cd44bee16056cc488af8b4ff92626efac16810e3224a029939c95c1b"
  },
  "kernelspec": {
   "display_name": "Python 3.8.5 ('base')",
   "language": "python",
   "name": "python3"
  },
  "language_info": {
   "codemirror_mode": {
    "name": "ipython",
    "version": 3
   },
   "file_extension": ".py",
   "mimetype": "text/x-python",
   "name": "python",
   "nbconvert_exporter": "python",
   "pygments_lexer": "ipython3",
   "version": "3.8.5"
  },
  "orig_nbformat": 4
 },
 "nbformat": 4,
 "nbformat_minor": 2
}
